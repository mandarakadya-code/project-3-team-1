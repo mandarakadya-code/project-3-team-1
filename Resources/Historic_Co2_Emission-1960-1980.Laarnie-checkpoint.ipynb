{
 "cells": [
  {
   "cell_type": "code",
   "execution_count": 1,
   "id": "21d69b4c",
   "metadata": {},
   "outputs": [],
   "source": [
    "import pandas as pd\n",
    "import numpy as np\n",
    "import matplotlib.pyplot as plt\n",
    "import seaborn as sns\n",
    "\n"
   ]
  },
  {
   "cell_type": "code",
   "execution_count": 2,
   "id": "f929665d",
   "metadata": {},
   "outputs": [
    {
     "data": {
      "text/html": [
       "<div>\n",
       "<style scoped>\n",
       "    .dataframe tbody tr th:only-of-type {\n",
       "        vertical-align: middle;\n",
       "    }\n",
       "\n",
       "    .dataframe tbody tr th {\n",
       "        vertical-align: top;\n",
       "    }\n",
       "\n",
       "    .dataframe thead th {\n",
       "        text-align: right;\n",
       "    }\n",
       "</style>\n",
       "<table border=\"1\" class=\"dataframe\">\n",
       "  <thead>\n",
       "    <tr style=\"text-align: right;\">\n",
       "      <th></th>\n",
       "      <th>Entity</th>\n",
       "      <th>Code</th>\n",
       "      <th>Year</th>\n",
       "      <th>annual_co2_emissions</th>\n",
       "    </tr>\n",
       "  </thead>\n",
       "  <tbody>\n",
       "    <tr>\n",
       "      <th>0</th>\n",
       "      <td>Afghanistan</td>\n",
       "      <td>AFG</td>\n",
       "      <td>1949</td>\n",
       "      <td>14656.0</td>\n",
       "    </tr>\n",
       "    <tr>\n",
       "      <th>1</th>\n",
       "      <td>Afghanistan</td>\n",
       "      <td>AFG</td>\n",
       "      <td>1950</td>\n",
       "      <td>84272.0</td>\n",
       "    </tr>\n",
       "    <tr>\n",
       "      <th>2</th>\n",
       "      <td>Afghanistan</td>\n",
       "      <td>AFG</td>\n",
       "      <td>1951</td>\n",
       "      <td>91600.0</td>\n",
       "    </tr>\n",
       "    <tr>\n",
       "      <th>3</th>\n",
       "      <td>Afghanistan</td>\n",
       "      <td>AFG</td>\n",
       "      <td>1952</td>\n",
       "      <td>91600.0</td>\n",
       "    </tr>\n",
       "    <tr>\n",
       "      <th>4</th>\n",
       "      <td>Afghanistan</td>\n",
       "      <td>AFG</td>\n",
       "      <td>1953</td>\n",
       "      <td>106256.0</td>\n",
       "    </tr>\n",
       "    <tr>\n",
       "      <th>...</th>\n",
       "      <td>...</td>\n",
       "      <td>...</td>\n",
       "      <td>...</td>\n",
       "      <td>...</td>\n",
       "    </tr>\n",
       "    <tr>\n",
       "      <th>30303</th>\n",
       "      <td>Zimbabwe</td>\n",
       "      <td>ZWE</td>\n",
       "      <td>2018</td>\n",
       "      <td>10714598.0</td>\n",
       "    </tr>\n",
       "    <tr>\n",
       "      <th>30304</th>\n",
       "      <td>Zimbabwe</td>\n",
       "      <td>ZWE</td>\n",
       "      <td>2019</td>\n",
       "      <td>9775428.0</td>\n",
       "    </tr>\n",
       "    <tr>\n",
       "      <th>30305</th>\n",
       "      <td>Zimbabwe</td>\n",
       "      <td>ZWE</td>\n",
       "      <td>2020</td>\n",
       "      <td>7849639.0</td>\n",
       "    </tr>\n",
       "    <tr>\n",
       "      <th>30306</th>\n",
       "      <td>Zimbabwe</td>\n",
       "      <td>ZWE</td>\n",
       "      <td>2021</td>\n",
       "      <td>8396158.0</td>\n",
       "    </tr>\n",
       "    <tr>\n",
       "      <th>30307</th>\n",
       "      <td>Zimbabwe</td>\n",
       "      <td>ZWE</td>\n",
       "      <td>2022</td>\n",
       "      <td>8855981.0</td>\n",
       "    </tr>\n",
       "  </tbody>\n",
       "</table>\n",
       "<p>30308 rows × 4 columns</p>\n",
       "</div>"
      ],
      "text/plain": [
       "            Entity Code  Year  annual_co2_emissions\n",
       "0      Afghanistan  AFG  1949               14656.0\n",
       "1      Afghanistan  AFG  1950               84272.0\n",
       "2      Afghanistan  AFG  1951               91600.0\n",
       "3      Afghanistan  AFG  1952               91600.0\n",
       "4      Afghanistan  AFG  1953              106256.0\n",
       "...            ...  ...   ...                   ...\n",
       "30303     Zimbabwe  ZWE  2018            10714598.0\n",
       "30304     Zimbabwe  ZWE  2019             9775428.0\n",
       "30305     Zimbabwe  ZWE  2020             7849639.0\n",
       "30306     Zimbabwe  ZWE  2021             8396158.0\n",
       "30307     Zimbabwe  ZWE  2022             8855981.0\n",
       "\n",
       "[30308 rows x 4 columns]"
      ]
     },
     "execution_count": 2,
     "metadata": {},
     "output_type": "execute_result"
    }
   ],
   "source": [
    "Co2=pd.read_csv('annual-co-emissions-by-region.csv')\n",
    "Co2"
   ]
  },
  {
   "cell_type": "code",
   "execution_count": 3,
   "id": "4d33a8b7",
   "metadata": {},
   "outputs": [
    {
     "name": "stdout",
     "output_type": "stream",
     "text": [
      "<class 'pandas.core.frame.DataFrame'>\n",
      "RangeIndex: 30308 entries, 0 to 30307\n",
      "Data columns (total 4 columns):\n",
      " #   Column                Non-Null Count  Dtype  \n",
      "---  ------                --------------  -----  \n",
      " 0   Entity                30308 non-null  object \n",
      " 1   Code                  24157 non-null  object \n",
      " 2   Year                  30308 non-null  int64  \n",
      " 3   annual_co2_emissions  30308 non-null  float64\n",
      "dtypes: float64(1), int64(1), object(2)\n",
      "memory usage: 947.3+ KB\n"
     ]
    }
   ],
   "source": [
    "Co2.info()"
   ]
  },
  {
   "cell_type": "code",
   "execution_count": 4,
   "id": "e50df008",
   "metadata": {},
   "outputs": [],
   "source": [
    "Co2.drop('Code',axis=1,inplace=True)"
   ]
  },
  {
   "cell_type": "code",
   "execution_count": 5,
   "id": "9bc02073",
   "metadata": {},
   "outputs": [],
   "source": [
    "Co2.rename(columns={'annual_co2_emissions':'A_Co2_emissions'},inplace=True)\n"
   ]
  },
  {
   "cell_type": "code",
   "execution_count": 6,
   "id": "d31b6f44",
   "metadata": {},
   "outputs": [
    {
     "data": {
      "text/html": [
       "<div>\n",
       "<style scoped>\n",
       "    .dataframe tbody tr th:only-of-type {\n",
       "        vertical-align: middle;\n",
       "    }\n",
       "\n",
       "    .dataframe tbody tr th {\n",
       "        vertical-align: top;\n",
       "    }\n",
       "\n",
       "    .dataframe thead th {\n",
       "        text-align: right;\n",
       "    }\n",
       "</style>\n",
       "<table border=\"1\" class=\"dataframe\">\n",
       "  <thead>\n",
       "    <tr style=\"text-align: right;\">\n",
       "      <th></th>\n",
       "      <th>Entity</th>\n",
       "      <th>Year</th>\n",
       "      <th>A_Co2_emissions</th>\n",
       "    </tr>\n",
       "  </thead>\n",
       "  <tbody>\n",
       "    <tr>\n",
       "      <th>0</th>\n",
       "      <td>Afghanistan</td>\n",
       "      <td>1949</td>\n",
       "      <td>14656.0</td>\n",
       "    </tr>\n",
       "    <tr>\n",
       "      <th>1</th>\n",
       "      <td>Afghanistan</td>\n",
       "      <td>1950</td>\n",
       "      <td>84272.0</td>\n",
       "    </tr>\n",
       "    <tr>\n",
       "      <th>2</th>\n",
       "      <td>Afghanistan</td>\n",
       "      <td>1951</td>\n",
       "      <td>91600.0</td>\n",
       "    </tr>\n",
       "    <tr>\n",
       "      <th>3</th>\n",
       "      <td>Afghanistan</td>\n",
       "      <td>1952</td>\n",
       "      <td>91600.0</td>\n",
       "    </tr>\n",
       "    <tr>\n",
       "      <th>4</th>\n",
       "      <td>Afghanistan</td>\n",
       "      <td>1953</td>\n",
       "      <td>106256.0</td>\n",
       "    </tr>\n",
       "  </tbody>\n",
       "</table>\n",
       "</div>"
      ],
      "text/plain": [
       "        Entity  Year  A_Co2_emissions\n",
       "0  Afghanistan  1949          14656.0\n",
       "1  Afghanistan  1950          84272.0\n",
       "2  Afghanistan  1951          91600.0\n",
       "3  Afghanistan  1952          91600.0\n",
       "4  Afghanistan  1953         106256.0"
      ]
     },
     "execution_count": 6,
     "metadata": {},
     "output_type": "execute_result"
    }
   ],
   "source": [
    "Co2.head()"
   ]
  },
  {
   "cell_type": "code",
   "execution_count": 7,
   "id": "6ba5c30f",
   "metadata": {},
   "outputs": [
    {
     "data": {
      "text/plain": [
       "array([1949, 1950, 1951, 1952, 1953, 1954, 1955, 1956, 1957, 1958, 1959,\n",
       "       1960, 1961, 1962, 1963, 1964, 1965, 1966, 1967, 1968, 1969, 1970,\n",
       "       1971, 1972, 1973, 1974, 1975, 1976, 1977, 1978, 1979, 1980, 1981,\n",
       "       1982, 1983, 1984, 1985, 1986, 1987, 1988, 1989, 1990, 1991, 1992,\n",
       "       1993, 1994, 1995, 1996, 1997, 1998, 1999, 2000, 2001, 2002, 2003,\n",
       "       2004, 2005, 2006, 2007, 2008, 2009, 2010, 2011, 2012, 2013, 2014,\n",
       "       2015, 2016, 2017, 2018, 2019, 2020, 2021, 2022, 1750, 1751, 1752,\n",
       "       1753, 1754, 1755, 1756, 1757, 1758, 1759, 1760, 1761, 1762, 1763,\n",
       "       1764, 1765, 1766, 1767, 1768, 1769, 1770, 1771, 1772, 1773, 1774,\n",
       "       1775, 1776, 1777, 1778, 1779, 1780, 1781, 1782, 1783, 1784, 1785,\n",
       "       1786, 1787, 1788, 1789, 1790, 1791, 1792, 1793, 1794, 1795, 1796,\n",
       "       1797, 1798, 1799, 1800, 1801, 1802, 1803, 1804, 1805, 1806, 1807,\n",
       "       1808, 1809, 1810, 1811, 1812, 1813, 1814, 1815, 1816, 1817, 1818,\n",
       "       1819, 1820, 1821, 1822, 1823, 1824, 1825, 1826, 1827, 1828, 1829,\n",
       "       1830, 1831, 1832, 1833, 1834, 1835, 1836, 1837, 1838, 1839, 1840,\n",
       "       1841, 1842, 1843, 1844, 1845, 1846, 1847, 1848, 1849, 1850, 1851,\n",
       "       1852, 1853, 1854, 1855, 1856, 1857, 1858, 1859, 1860, 1861, 1862,\n",
       "       1863, 1864, 1865, 1866, 1867, 1868, 1869, 1870, 1871, 1872, 1873,\n",
       "       1874, 1875, 1876, 1877, 1878, 1879, 1880, 1881, 1882, 1883, 1884,\n",
       "       1885, 1886, 1887, 1888, 1889, 1890, 1891, 1892, 1893, 1894, 1895,\n",
       "       1896, 1897, 1898, 1899, 1900, 1901, 1902, 1903, 1904, 1905, 1906,\n",
       "       1907, 1908, 1909, 1910, 1911, 1912, 1913, 1914, 1915, 1916, 1917,\n",
       "       1918, 1919, 1920, 1921, 1922, 1923, 1924, 1925, 1926, 1927, 1928,\n",
       "       1929, 1930, 1931, 1932, 1933, 1934, 1935, 1936, 1937, 1938, 1939,\n",
       "       1940, 1941, 1942, 1943, 1944, 1945, 1946, 1947, 1948], dtype=int64)"
      ]
     },
     "execution_count": 7,
     "metadata": {},
     "output_type": "execute_result"
    }
   ],
   "source": [
    "Co2.Year.unique()"
   ]
  },
  {
   "cell_type": "code",
   "execution_count": 8,
   "id": "7db82640",
   "metadata": {},
   "outputs": [
    {
     "data": {
      "text/plain": [
       "array(['Afghanistan', 'Africa', 'Africa (GCP)', 'Albania', 'Algeria',\n",
       "       'Andorra', 'Angola', 'Anguilla', 'Antarctica',\n",
       "       'Antigua and Barbuda', 'Argentina', 'Armenia', 'Aruba', 'Asia',\n",
       "       'Asia (GCP)', 'Asia (excl. China and India)', 'Australia',\n",
       "       'Austria', 'Azerbaijan', 'Bahamas', 'Bahrain', 'Bangladesh',\n",
       "       'Barbados', 'Belarus', 'Belgium', 'Belize', 'Benin', 'Bermuda',\n",
       "       'Bhutan', 'Bolivia', 'Bonaire Sint Eustatius and Saba',\n",
       "       'Bosnia and Herzegovina', 'Botswana', 'Brazil',\n",
       "       'British Virgin Islands', 'Brunei', 'Bulgaria', 'Burkina Faso',\n",
       "       'Burundi', 'Cambodia', 'Cameroon', 'Canada', 'Cape Verde',\n",
       "       'Central African Republic', 'Central America (GCP)', 'Chad',\n",
       "       'Chile', 'China', 'Christmas Island', 'Colombia', 'Comoros',\n",
       "       'Congo', 'Cook Islands', 'Costa Rica', \"Cote d'Ivoire\", 'Croatia',\n",
       "       'Cuba', 'Curacao', 'Cyprus', 'Czechia',\n",
       "       'Democratic Republic of Congo', 'Denmark', 'Djibouti', 'Dominica',\n",
       "       'Dominican Republic', 'East Timor', 'Ecuador', 'Egypt',\n",
       "       'El Salvador', 'Equatorial Guinea', 'Eritrea', 'Estonia',\n",
       "       'Eswatini', 'Ethiopia', 'Europe', 'Europe (GCP)',\n",
       "       'Europe (excl. EU-27)', 'Europe (excl. EU-28)',\n",
       "       'European Union (27)', 'European Union (28)', 'Faroe Islands',\n",
       "       'Fiji', 'Finland', 'France', 'French Polynesia', 'Gabon', 'Gambia',\n",
       "       'Georgia', 'Germany', 'Ghana', 'Greece', 'Greenland', 'Grenada',\n",
       "       'Guatemala', 'Guinea', 'Guinea-Bissau', 'Guyana', 'Haiti',\n",
       "       'High-income countries', 'Honduras', 'Hong Kong', 'Hungary',\n",
       "       'Iceland', 'India', 'Indonesia', 'International aviation',\n",
       "       'International shipping', 'Iran', 'Iraq', 'Ireland', 'Israel',\n",
       "       'Italy', 'Jamaica', 'Japan', 'Jordan', 'Kazakhstan', 'Kenya',\n",
       "       'Kiribati', 'Kosovo', 'Kuwait', 'Kuwaiti Oil Fires (GCP)',\n",
       "       'Kyrgyzstan', 'Laos', 'Latvia', 'Lebanon', 'Leeward Islands (GCP)',\n",
       "       'Lesotho', 'Liberia', 'Libya', 'Liechtenstein', 'Lithuania',\n",
       "       'Low-income countries', 'Lower-middle-income countries',\n",
       "       'Luxembourg', 'Macao', 'Madagascar', 'Malawi', 'Malaysia',\n",
       "       'Maldives', 'Mali', 'Malta', 'Marshall Islands', 'Mauritania',\n",
       "       'Mauritius', 'Mexico', 'Micronesia (country)', 'Middle East (GCP)',\n",
       "       'Moldova', 'Mongolia', 'Montenegro', 'Montserrat', 'Morocco',\n",
       "       'Mozambique', 'Myanmar', 'Namibia', 'Nauru', 'Nepal',\n",
       "       'Netherlands', 'New Caledonia', 'New Zealand', 'Nicaragua',\n",
       "       'Niger', 'Nigeria', 'Niue', 'Non-OECD (GCP)', 'North America',\n",
       "       'North America (GCP)', 'North America (excl. USA)', 'North Korea',\n",
       "       'North Macedonia', 'Norway', 'OECD (GCP)', 'Oceania',\n",
       "       'Oceania (GCP)', 'Oman', 'Pakistan', 'Palau', 'Palestine',\n",
       "       'Panama', 'Panama Canal Zone (GCP)', 'Papua New Guinea',\n",
       "       'Paraguay', 'Peru', 'Philippines', 'Poland', 'Portugal', 'Qatar',\n",
       "       'Romania', 'Russia', 'Rwanda', 'Ryukyu Islands (GCP)',\n",
       "       'Saint Helena', 'Saint Kitts and Nevis', 'Saint Lucia',\n",
       "       'Saint Pierre and Miquelon', 'Saint Vincent and the Grenadines',\n",
       "       'Samoa', 'Sao Tome and Principe', 'Saudi Arabia', 'Senegal',\n",
       "       'Serbia', 'Seychelles', 'Sierra Leone', 'Singapore',\n",
       "       'Sint Maarten (Dutch part)', 'Slovakia', 'Slovenia',\n",
       "       'Solomon Islands', 'Somalia', 'South Africa', 'South America',\n",
       "       'South America (GCP)', 'South Korea', 'South Sudan', 'Spain',\n",
       "       'Sri Lanka', 'St. Kitts-Nevis-Anguilla (GCP)', 'Sudan', 'Suriname',\n",
       "       'Sweden', 'Switzerland', 'Syria', 'Taiwan', 'Tajikistan',\n",
       "       'Tanzania', 'Thailand', 'Togo', 'Tonga', 'Trinidad and Tobago',\n",
       "       'Tunisia', 'Turkey', 'Turkmenistan', 'Turks and Caicos Islands',\n",
       "       'Tuvalu', 'Uganda', 'Ukraine', 'United Arab Emirates',\n",
       "       'United Kingdom', 'United States', 'Upper-middle-income countries',\n",
       "       'Uruguay', 'Uzbekistan', 'Vanuatu', 'Venezuela', 'Vietnam',\n",
       "       'Wallis and Futuna', 'World', 'Yemen', 'Zambia', 'Zimbabwe'],\n",
       "      dtype=object)"
      ]
     },
     "execution_count": 8,
     "metadata": {},
     "output_type": "execute_result"
    }
   ],
   "source": [
    "Co2.Entity.unique()"
   ]
  },
  {
   "cell_type": "code",
   "execution_count": 9,
   "id": "efa686ff",
   "metadata": {},
   "outputs": [],
   "source": [
    "Co2.rename(columns={'Entity':'Country'},inplace=True)\n"
   ]
  },
  {
   "cell_type": "code",
   "execution_count": 10,
   "id": "c5c9372e",
   "metadata": {},
   "outputs": [
    {
     "name": "stdout",
     "output_type": "stream",
     "text": [
      "<class 'pandas.core.frame.DataFrame'>\n",
      "RangeIndex: 30308 entries, 0 to 30307\n",
      "Data columns (total 3 columns):\n",
      " #   Column           Non-Null Count  Dtype  \n",
      "---  ------           --------------  -----  \n",
      " 0   Country          30308 non-null  object \n",
      " 1   Year             30308 non-null  int64  \n",
      " 2   A_Co2_emissions  30308 non-null  float64\n",
      "dtypes: float64(1), int64(1), object(1)\n",
      "memory usage: 710.5+ KB\n"
     ]
    }
   ],
   "source": [
    "Co2.info()"
   ]
  },
  {
   "cell_type": "code",
   "execution_count": 11,
   "id": "df773982",
   "metadata": {},
   "outputs": [],
   "source": [
    "condition=Co2['A_Co2_emissions']>=0\n",
    "df=Co2[condition]"
   ]
  },
  {
   "cell_type": "code",
   "execution_count": 12,
   "id": "bd07b423",
   "metadata": {},
   "outputs": [],
   "source": [
    "p1=df['Year']<=1959"
   ]
  },
  {
   "cell_type": "code",
   "execution_count": 13,
   "id": "6d41ad7e",
   "metadata": {},
   "outputs": [],
   "source": [
    "Period_1=df[p1]"
   ]
  },
  {
   "cell_type": "code",
   "execution_count": 14,
   "id": "8fcfc42e",
   "metadata": {},
   "outputs": [
    {
     "data": {
      "text/html": [
       "<div>\n",
       "<style scoped>\n",
       "    .dataframe tbody tr th:only-of-type {\n",
       "        vertical-align: middle;\n",
       "    }\n",
       "\n",
       "    .dataframe tbody tr th {\n",
       "        vertical-align: top;\n",
       "    }\n",
       "\n",
       "    .dataframe thead th {\n",
       "        text-align: right;\n",
       "    }\n",
       "</style>\n",
       "<table border=\"1\" class=\"dataframe\">\n",
       "  <thead>\n",
       "    <tr style=\"text-align: right;\">\n",
       "      <th></th>\n",
       "      <th>Country</th>\n",
       "      <th>Year</th>\n",
       "      <th>A_Co2_emissions</th>\n",
       "    </tr>\n",
       "  </thead>\n",
       "  <tbody>\n",
       "    <tr>\n",
       "      <th>0</th>\n",
       "      <td>Afghanistan</td>\n",
       "      <td>1949</td>\n",
       "      <td>14656.0</td>\n",
       "    </tr>\n",
       "    <tr>\n",
       "      <th>1</th>\n",
       "      <td>Afghanistan</td>\n",
       "      <td>1950</td>\n",
       "      <td>84272.0</td>\n",
       "    </tr>\n",
       "    <tr>\n",
       "      <th>2</th>\n",
       "      <td>Afghanistan</td>\n",
       "      <td>1951</td>\n",
       "      <td>91600.0</td>\n",
       "    </tr>\n",
       "    <tr>\n",
       "      <th>3</th>\n",
       "      <td>Afghanistan</td>\n",
       "      <td>1952</td>\n",
       "      <td>91600.0</td>\n",
       "    </tr>\n",
       "    <tr>\n",
       "      <th>4</th>\n",
       "      <td>Afghanistan</td>\n",
       "      <td>1953</td>\n",
       "      <td>106256.0</td>\n",
       "    </tr>\n",
       "  </tbody>\n",
       "</table>\n",
       "</div>"
      ],
      "text/plain": [
       "       Country  Year  A_Co2_emissions\n",
       "0  Afghanistan  1949          14656.0\n",
       "1  Afghanistan  1950          84272.0\n",
       "2  Afghanistan  1951          91600.0\n",
       "3  Afghanistan  1952          91600.0\n",
       "4  Afghanistan  1953         106256.0"
      ]
     },
     "execution_count": 14,
     "metadata": {},
     "output_type": "execute_result"
    }
   ],
   "source": [
    "Period_1.head()"
   ]
  },
  {
   "cell_type": "code",
   "execution_count": 15,
   "id": "b07ae15b",
   "metadata": {},
   "outputs": [],
   "source": [
    "# \n",
    "P2_Y1=df['Year']<=1980\n",
    "P2_Y2=df['Year']>1959"
   ]
  },
  {
   "cell_type": "code",
   "execution_count": 16,
   "id": "aefb2de9",
   "metadata": {},
   "outputs": [],
   "source": [
    "Period_2=df[P2_Y1&P2_Y2]\n"
   ]
  },
  {
   "cell_type": "code",
   "execution_count": 17,
   "id": "c7560ddc",
   "metadata": {},
   "outputs": [
    {
     "data": {
      "text/html": [
       "<div>\n",
       "<style scoped>\n",
       "    .dataframe tbody tr th:only-of-type {\n",
       "        vertical-align: middle;\n",
       "    }\n",
       "\n",
       "    .dataframe tbody tr th {\n",
       "        vertical-align: top;\n",
       "    }\n",
       "\n",
       "    .dataframe thead th {\n",
       "        text-align: right;\n",
       "    }\n",
       "</style>\n",
       "<table border=\"1\" class=\"dataframe\">\n",
       "  <thead>\n",
       "    <tr style=\"text-align: right;\">\n",
       "      <th></th>\n",
       "      <th>Country</th>\n",
       "      <th>Year</th>\n",
       "      <th>A_Co2_emissions</th>\n",
       "    </tr>\n",
       "  </thead>\n",
       "  <tbody>\n",
       "    <tr>\n",
       "      <th>11</th>\n",
       "      <td>Afghanistan</td>\n",
       "      <td>1960</td>\n",
       "      <td>413885.0</td>\n",
       "    </tr>\n",
       "    <tr>\n",
       "      <th>12</th>\n",
       "      <td>Afghanistan</td>\n",
       "      <td>1961</td>\n",
       "      <td>490798.0</td>\n",
       "    </tr>\n",
       "    <tr>\n",
       "      <th>13</th>\n",
       "      <td>Afghanistan</td>\n",
       "      <td>1962</td>\n",
       "      <td>688594.0</td>\n",
       "    </tr>\n",
       "    <tr>\n",
       "      <th>14</th>\n",
       "      <td>Afghanistan</td>\n",
       "      <td>1963</td>\n",
       "      <td>706736.0</td>\n",
       "    </tr>\n",
       "    <tr>\n",
       "      <th>15</th>\n",
       "      <td>Afghanistan</td>\n",
       "      <td>1964</td>\n",
       "      <td>838551.0</td>\n",
       "    </tr>\n",
       "  </tbody>\n",
       "</table>\n",
       "</div>"
      ],
      "text/plain": [
       "        Country  Year  A_Co2_emissions\n",
       "11  Afghanistan  1960         413885.0\n",
       "12  Afghanistan  1961         490798.0\n",
       "13  Afghanistan  1962         688594.0\n",
       "14  Afghanistan  1963         706736.0\n",
       "15  Afghanistan  1964         838551.0"
      ]
     },
     "execution_count": 17,
     "metadata": {},
     "output_type": "execute_result"
    }
   ],
   "source": [
    "Period_2.head()"
   ]
  },
  {
   "cell_type": "code",
   "execution_count": 18,
   "id": "a705b086",
   "metadata": {},
   "outputs": [
    {
     "data": {
      "text/plain": [
       "Country\n",
       "World                    3.041065e+11\n",
       "High-income countries    1.961827e+11\n",
       "OECD (GCP)               1.917237e+11\n",
       "Europe                   1.258363e+11\n",
       "Europe (GCP)             1.258363e+11\n",
       "                             ...     \n",
       "Bulgaria                 1.222373e+09\n",
       "Saudi Arabia             1.221038e+09\n",
       "Denmark                  1.092742e+09\n",
       "Austria                  9.915848e+08\n",
       "Slovakia                 9.903294e+08\n",
       "Name: A_Co2_emissions, Length: 65, dtype: float64"
      ]
     },
     "execution_count": 18,
     "metadata": {},
     "output_type": "execute_result"
    }
   ],
   "source": [
    "Period_2.groupby('Country')['A_Co2_emissions'].sum().sort_values(ascending=False)[:65]"
   ]
  },
  {
   "cell_type": "code",
   "execution_count": 19,
   "id": "e76938ad",
   "metadata": {},
   "outputs": [
    {
     "data": {
      "text/plain": [
       "Text(0, 0.5, 'Co2 Emissions')"
      ]
     },
     "execution_count": 19,
     "metadata": {},
     "output_type": "execute_result"
    },
    {
     "data": {
      "image/png": "[encoded data removed]",
      "text/plain": [
       "<Figure size 640x480 with 1 Axes>"
      ]
     },
     "metadata": {},
     "output_type": "display_data"
    }
   ],
   "source": [
    "sns.set_style('darkgrid')\n",
    "Period_2.groupby('Country')['A_Co2_emissions'].sum().sort_values(ascending=False)[1:10].plot(kind='bar')\n",
    "plt.title('Top 10 Countries in emitting Co2 from 1960 to 1980',fontweight='bold')\n",
    "plt.ylabel('Co2 Emissions')\n",
    "\n"
   ]
  },
  {
   "cell_type": "code",
   "execution_count": 20,
   "id": "626686bf",
   "metadata": {},
   "outputs": [
    {
     "name": "stderr",
     "output_type": "stream",
     "text": [
      "C:\\Users\\laarn\\AppData\\Local\\Temp\\ipykernel_20360\\4161569736.py:2: SettingWithCopyWarning: \n",
      "A value is trying to be set on a copy of a slice from a DataFrame.\n",
      "Try using .loc[row_indexer,col_indexer] = value instead\n",
      "\n",
      "See the caveats in the documentation: https://pandas.pydata.org/pandas-docs/stable/user_guide/indexing.html#returning-a-view-versus-a-copy\n",
      "  Period_2['Year']=Period_2['Year'].astype('object')\n"
     ]
    },
    {
     "data": {
      "text/plain": [
       "Country             object\n",
       "Year                object\n",
       "A_Co2_emissions    float64\n",
       "dtype: object"
      ]
     },
     "execution_count": 20,
     "metadata": {},
     "output_type": "execute_result"
    }
   ],
   "source": [
    "# Change Year data types to object\n",
    "Period_2['Year']=Period_2['Year'].astype('object')\n",
    "Period_2.dtypes"
   ]
  },
  {
   "cell_type": "code",
   "execution_count": 21,
   "id": "608b40b4",
   "metadata": {},
   "outputs": [
    {
     "data": {
      "text/plain": [
       "array([1960, 1961, 1962, 1963, 1964, 1965, 1966, 1967, 1968, 1969, 1970,\n",
       "       1971, 1972, 1973, 1974, 1975, 1976, 1977, 1978, 1979, 1980],\n",
       "      dtype=object)"
      ]
     },
     "execution_count": 21,
     "metadata": {},
     "output_type": "execute_result"
    }
   ],
   "source": [
    "Period_2.Year.unique()"
   ]
  },
  {
   "cell_type": "code",
   "execution_count": 22,
   "id": "11eb4c5c",
   "metadata": {},
   "outputs": [
    {
     "data": {
      "text/plain": [
       "Year\n",
       "1979    1.346584e+11\n",
       "1980    1.340284e+11\n",
       "1978    1.308957e+11\n",
       "1977    1.269824e+11\n",
       "1976    1.237238e+11\n",
       "1975    1.171197e+11\n",
       "1973    1.168281e+11\n",
       "1974    1.166204e+11\n",
       "1972    1.109939e+11\n",
       "1971    1.062089e+11\n",
       "1970    1.020537e+11\n",
       "1969    9.449976e+10\n",
       "1968    8.865822e+10\n",
       "1967    8.407807e+10\n",
       "1966    8.154702e+10\n",
       "1965    7.789257e+10\n",
       "1964    7.462881e+10\n",
       "1963    7.080919e+10\n",
       "1962    6.712419e+10\n",
       "1961    6.465017e+10\n",
       "1960    6.421359e+10\n",
       "Name: A_Co2_emissions, dtype: float64"
      ]
     },
     "execution_count": 22,
     "metadata": {},
     "output_type": "execute_result"
    }
   ],
   "source": [
    "Period_2.groupby('Year')['A_Co2_emissions'].sum().sort_values(ascending=False)"
   ]
  },
  {
   "cell_type": "code",
   "execution_count": 23,
   "id": "fb98d286",
   "metadata": {},
   "outputs": [
    {
     "data": {
      "text/html": [
       "<div>\n",
       "<style scoped>\n",
       "    .dataframe tbody tr th:only-of-type {\n",
       "        vertical-align: middle;\n",
       "    }\n",
       "\n",
       "    .dataframe tbody tr th {\n",
       "        vertical-align: top;\n",
       "    }\n",
       "\n",
       "    .dataframe thead tr th {\n",
       "        text-align: left;\n",
       "    }\n",
       "\n",
       "    .dataframe thead tr:last-of-type th {\n",
       "        text-align: right;\n",
       "    }\n",
       "</style>\n",
       "<table border=\"1\" class=\"dataframe\">\n",
       "  <thead>\n",
       "    <tr>\n",
       "      <th></th>\n",
       "      <th colspan=\"4\" halign=\"left\">A_Co2_emissions</th>\n",
       "    </tr>\n",
       "    <tr>\n",
       "      <th></th>\n",
       "      <th>sum</th>\n",
       "      <th>max</th>\n",
       "      <th>mean</th>\n",
       "      <th>&lt;lambda_0&gt;</th>\n",
       "    </tr>\n",
       "    <tr>\n",
       "      <th>Year</th>\n",
       "      <th></th>\n",
       "      <th></th>\n",
       "      <th></th>\n",
       "      <th></th>\n",
       "    </tr>\n",
       "  </thead>\n",
       "  <tbody>\n",
       "    <tr>\n",
       "      <th>1960</th>\n",
       "      <td>6.421359e+10</td>\n",
       "      <td>9.386421e+09</td>\n",
       "      <td>2.892504e+08</td>\n",
       "      <td>9.386421e+09</td>\n",
       "    </tr>\n",
       "    <tr>\n",
       "      <th>1961</th>\n",
       "      <td>6.465017e+10</td>\n",
       "      <td>9.414383e+09</td>\n",
       "      <td>2.899111e+08</td>\n",
       "      <td>9.414383e+09</td>\n",
       "    </tr>\n",
       "    <tr>\n",
       "      <th>1962</th>\n",
       "      <td>6.712419e+10</td>\n",
       "      <td>9.746556e+09</td>\n",
       "      <td>2.983297e+08</td>\n",
       "      <td>9.746556e+09</td>\n",
       "    </tr>\n",
       "    <tr>\n",
       "      <th>1963</th>\n",
       "      <td>7.080919e+10</td>\n",
       "      <td>1.026605e+10</td>\n",
       "      <td>3.133150e+08</td>\n",
       "      <td>1.026605e+10</td>\n",
       "    </tr>\n",
       "    <tr>\n",
       "      <th>1964</th>\n",
       "      <td>7.462881e+10</td>\n",
       "      <td>1.082362e+10</td>\n",
       "      <td>3.258900e+08</td>\n",
       "      <td>1.082362e+10</td>\n",
       "    </tr>\n",
       "    <tr>\n",
       "      <th>1965</th>\n",
       "      <td>7.789257e+10</td>\n",
       "      <td>1.130969e+10</td>\n",
       "      <td>3.401422e+08</td>\n",
       "      <td>1.130969e+10</td>\n",
       "    </tr>\n",
       "    <tr>\n",
       "      <th>1966</th>\n",
       "      <td>8.154702e+10</td>\n",
       "      <td>1.186171e+10</td>\n",
       "      <td>3.561005e+08</td>\n",
       "      <td>1.186171e+10</td>\n",
       "    </tr>\n",
       "    <tr>\n",
       "      <th>1967</th>\n",
       "      <td>8.407807e+10</td>\n",
       "      <td>1.223633e+10</td>\n",
       "      <td>3.671531e+08</td>\n",
       "      <td>1.223633e+10</td>\n",
       "    </tr>\n",
       "    <tr>\n",
       "      <th>1968</th>\n",
       "      <td>8.865822e+10</td>\n",
       "      <td>1.290434e+10</td>\n",
       "      <td>3.854705e+08</td>\n",
       "      <td>1.290434e+10</td>\n",
       "    </tr>\n",
       "    <tr>\n",
       "      <th>1969</th>\n",
       "      <td>9.449976e+10</td>\n",
       "      <td>1.376084e+10</td>\n",
       "      <td>4.108685e+08</td>\n",
       "      <td>1.376084e+10</td>\n",
       "    </tr>\n",
       "    <tr>\n",
       "      <th>1970</th>\n",
       "      <td>1.020537e+11</td>\n",
       "      <td>1.489816e+10</td>\n",
       "      <td>4.398868e+08</td>\n",
       "      <td>1.489816e+10</td>\n",
       "    </tr>\n",
       "    <tr>\n",
       "      <th>1971</th>\n",
       "      <td>1.062089e+11</td>\n",
       "      <td>1.550279e+10</td>\n",
       "      <td>4.558323e+08</td>\n",
       "      <td>1.550279e+10</td>\n",
       "    </tr>\n",
       "    <tr>\n",
       "      <th>1972</th>\n",
       "      <td>1.109939e+11</td>\n",
       "      <td>1.622344e+10</td>\n",
       "      <td>4.743329e+08</td>\n",
       "      <td>1.622344e+10</td>\n",
       "    </tr>\n",
       "    <tr>\n",
       "      <th>1973</th>\n",
       "      <td>1.168281e+11</td>\n",
       "      <td>1.708350e+10</td>\n",
       "      <td>5.014081e+08</td>\n",
       "      <td>1.708350e+10</td>\n",
       "    </tr>\n",
       "    <tr>\n",
       "      <th>1974</th>\n",
       "      <td>1.166204e+11</td>\n",
       "      <td>1.700938e+10</td>\n",
       "      <td>5.005166e+08</td>\n",
       "      <td>1.700938e+10</td>\n",
       "    </tr>\n",
       "    <tr>\n",
       "      <th>1975</th>\n",
       "      <td>1.171197e+11</td>\n",
       "      <td>1.704998e+10</td>\n",
       "      <td>5.026596e+08</td>\n",
       "      <td>1.704998e+10</td>\n",
       "    </tr>\n",
       "    <tr>\n",
       "      <th>1976</th>\n",
       "      <td>1.237238e+11</td>\n",
       "      <td>1.798524e+10</td>\n",
       "      <td>5.310034e+08</td>\n",
       "      <td>1.798524e+10</td>\n",
       "    </tr>\n",
       "    <tr>\n",
       "      <th>1977</th>\n",
       "      <td>1.269824e+11</td>\n",
       "      <td>1.849465e+10</td>\n",
       "      <td>5.449890e+08</td>\n",
       "      <td>1.849465e+10</td>\n",
       "    </tr>\n",
       "    <tr>\n",
       "      <th>1978</th>\n",
       "      <td>1.308957e+11</td>\n",
       "      <td>1.906396e+10</td>\n",
       "      <td>5.617843e+08</td>\n",
       "      <td>1.906396e+10</td>\n",
       "    </tr>\n",
       "    <tr>\n",
       "      <th>1979</th>\n",
       "      <td>1.346584e+11</td>\n",
       "      <td>1.960300e+10</td>\n",
       "      <td>5.779332e+08</td>\n",
       "      <td>1.960300e+10</td>\n",
       "    </tr>\n",
       "    <tr>\n",
       "      <th>1980</th>\n",
       "      <td>1.340284e+11</td>\n",
       "      <td>1.948244e+10</td>\n",
       "      <td>5.777086e+08</td>\n",
       "      <td>1.948244e+10</td>\n",
       "    </tr>\n",
       "  </tbody>\n",
       "</table>\n",
       "</div>"
      ],
      "text/plain": [
       "     A_Co2_emissions                                          \n",
       "                 sum           max          mean    <lambda_0>\n",
       "Year                                                          \n",
       "1960    6.421359e+10  9.386421e+09  2.892504e+08  9.386421e+09\n",
       "1961    6.465017e+10  9.414383e+09  2.899111e+08  9.414383e+09\n",
       "1962    6.712419e+10  9.746556e+09  2.983297e+08  9.746556e+09\n",
       "1963    7.080919e+10  1.026605e+10  3.133150e+08  1.026605e+10\n",
       "1964    7.462881e+10  1.082362e+10  3.258900e+08  1.082362e+10\n",
       "1965    7.789257e+10  1.130969e+10  3.401422e+08  1.130969e+10\n",
       "1966    8.154702e+10  1.186171e+10  3.561005e+08  1.186171e+10\n",
       "1967    8.407807e+10  1.223633e+10  3.671531e+08  1.223633e+10\n",
       "1968    8.865822e+10  1.290434e+10  3.854705e+08  1.290434e+10\n",
       "1969    9.449976e+10  1.376084e+10  4.108685e+08  1.376084e+10\n",
       "1970    1.020537e+11  1.489816e+10  4.398868e+08  1.489816e+10\n",
       "1971    1.062089e+11  1.550279e+10  4.558323e+08  1.550279e+10\n",
       "1972    1.109939e+11  1.622344e+10  4.743329e+08  1.622344e+10\n",
       "1973    1.168281e+11  1.708350e+10  5.014081e+08  1.708350e+10\n",
       "1974    1.166204e+11  1.700938e+10  5.005166e+08  1.700938e+10\n",
       "1975    1.171197e+11  1.704998e+10  5.026596e+08  1.704998e+10\n",
       "1976    1.237238e+11  1.798524e+10  5.310034e+08  1.798524e+10\n",
       "1977    1.269824e+11  1.849465e+10  5.449890e+08  1.849465e+10\n",
       "1978    1.308957e+11  1.906396e+10  5.617843e+08  1.906396e+10\n",
       "1979    1.346584e+11  1.960300e+10  5.779332e+08  1.960300e+10\n",
       "1980    1.340284e+11  1.948244e+10  5.777086e+08  1.948244e+10"
      ]
     },
     "execution_count": 23,
     "metadata": {},
     "output_type": "execute_result"
    }
   ],
   "source": [
    "Year_Total=Period_2.groupby([\"Year\"]).agg(\n",
    "    {\"A_Co2_emissions\":[\"sum\",\"max\",\"mean\",lambda x:x.max()-x.min()]})\n",
    "Year_Total"
   ]
  },
  {
   "cell_type": "code",
   "execution_count": 24,
   "id": "cdbef9d8",
   "metadata": {},
   "outputs": [
    {
     "ename": "IndexError",
     "evalue": "list index out of range",
     "output_type": "error",
     "traceback": [
      "\u001b[1;31m---------------------------------------------------------------------------\u001b[0m",
      "\u001b[1;31mIndexError\u001b[0m                                Traceback (most recent call last)",
      "Cell \u001b[1;32mIn[24], line 2\u001b[0m\n\u001b[0;32m      1\u001b[0m ax \u001b[38;5;241m=\u001b[39m sns\u001b[38;5;241m.\u001b[39mbarplot(Period_2, x\u001b[38;5;241m=\u001b[39m\u001b[38;5;124m\"\u001b[39m\u001b[38;5;124mYear\u001b[39m\u001b[38;5;124m\"\u001b[39m, y\u001b[38;5;241m=\u001b[39m\u001b[38;5;124m\"\u001b[39m\u001b[38;5;124mA_Co2_emissions\u001b[39m\u001b[38;5;124m\"\u001b[39m, estimator\u001b[38;5;241m=\u001b[39m\u001b[38;5;124m\"\u001b[39m\u001b[38;5;124msum\u001b[39m\u001b[38;5;124m\"\u001b[39m, errorbar\u001b[38;5;241m=\u001b[39m\u001b[38;5;28;01mNone\u001b[39;00m)\n\u001b[1;32m----> 2\u001b[0m ax\u001b[38;5;241m.\u001b[39mbar_label(ax\u001b[38;5;241m.\u001b[39mcontainers[\u001b[38;5;241m2\u001b[39m], fontsize\u001b[38;5;241m=\u001b[39m\u001b[38;5;241m6\u001b[39m)\n",
      "\u001b[1;31mIndexError\u001b[0m: list index out of range"
     ]
    },
    {
     "data": {
      "image/png": "[encoded data removed]",
      "text/plain": [
       "<Figure size 640x480 with 1 Axes>"
      ]
     },
     "metadata": {},
     "output_type": "display_data"
    }
   ],
   "source": [
    "ax = sns.barplot(Period_2, x=\"Year\", y=\"A_Co2_emissions\", estimator=\"sum\", errorbar=None)\n",
    "ax.bar_label(ax.containers[2], fontsize=6);"
   ]
  },
  {
   "cell_type": "code",
   "execution_count": 25,
   "id": "8a017c3e",
   "metadata": {},
   "outputs": [
    {
     "data": {
      "image/png": "[encoded data removed]",
      "text/plain": [
       "<Figure size 640x480 with 1 Axes>"
      ]
     },
     "metadata": {},
     "output_type": "display_data"
    }
   ],
   "source": [
    "sns.set_style('darkgrid')\n",
    "Period_2.groupby('Year')['A_Co2_emissions'].sum().sort_values(ascending=False).plot(kind='bar')\n",
    "plt.title('1960 to 1980 Co2 Emissions',fontweight='bold')\n",
    "plt.ylabel('Co2 Emissions')\n",
    "\n",
    "plt.show()\n"
   ]
  },
  {
   "cell_type": "code",
   "execution_count": null,
   "id": "8b93eee3",
   "metadata": {},
   "outputs": [],
   "source": []
  },
  {
   "cell_type": "code",
   "execution_count": null,
   "id": "18996959",
   "metadata": {},
   "outputs": [],
   "source": []
  },
  {
   "cell_type": "code",
   "execution_count": null,
   "id": "a0a5cd2e",
   "metadata": {},
   "outputs": [],
   "source": []
  },
  {
   "cell_type": "code",
   "execution_count": null,
   "id": "37e839d8",
   "metadata": {},
   "outputs": [],
   "source": []
  },
  {
   "cell_type": "code",
   "execution_count": null,
   "id": "a588ec9e",
   "metadata": {},
   "outputs": [],
   "source": []
  },
  {
   "cell_type": "code",
   "execution_count": null,
   "id": "c852e803",
   "metadata": {},
   "outputs": [],
   "source": []
  },
  {
   "cell_type": "code",
   "execution_count": null,
   "id": "e4f6e34d",
   "metadata": {},
   "outputs": [],
   "source": []
  },
  {
   "cell_type": "code",
   "execution_count": null,
   "id": "5d71e006",
   "metadata": {},
   "outputs": [],
   "source": []
  },
  {
   "cell_type": "markdown",
   "id": "32abb7a7",
   "metadata": {},
   "source": []
  }
 ],
 "metadata": {
  "kernelspec": {
   "display_name": "Python 3 (ipykernel)",
   "language": "python",
   "name": "python3"
  },
  "language_info": {
   "codemirror_mode": {
    "name": "ipython",
    "version": 3
   },
   "file_extension": ".py",
   "mimetype": "text/x-python",
   "name": "python",
   "nbconvert_exporter": "python",
   "pygments_lexer": "ipython3",
   "version": "3.11.5"
  }
 },
 "nbformat": 4,
 "nbformat_minor": 5
}
